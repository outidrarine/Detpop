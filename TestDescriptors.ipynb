{
 "cells": [
  {
   "cell_type": "markdown",
   "metadata": {},
   "source": [
    "# Création de nouveaux descripteurs et tests"
   ]
  },
  {
   "cell_type": "markdown",
   "metadata": {},
   "source": [
    "## Libraries"
   ]
  },
  {
   "cell_type": "code",
   "execution_count": 2,
   "metadata": {},
   "outputs": [],
   "source": [
    "import os\n",
    "import numpy as np\n",
    "import h5py\n",
    "from matplotlib import pyplot as plt\n",
    "from kymatio.numpy import Scattering1D\n",
    "\n",
    "\n",
    "from utils import progressbar, getSound"
   ]
  },
  {
   "cell_type": "markdown",
   "metadata": {},
   "source": [
    "## Fonctions pour le test des descripteurs\n",
    "\n",
    "### Fonction pour calculer la matrice des descripteurs"
   ]
  },
  {
   "cell_type": "code",
   "execution_count": 3,
   "metadata": {},
   "outputs": [],
   "source": [
    "def computeAllDescriptors(descriptor, descriptorsName, descriptorFileName, root = './SoundDatabase', verbose = True, nbSounds = 432, duration = 5):\n",
    "    \"\"\"\n",
    "    Compute the descriptors on all the sound samples with the function descriptor given as parameter and save\n",
    "    the resulting matrix in an hdf5 file with the name descriptorsName.\n",
    "    The descriptor function must only take one argument: a sound sample.\n",
    "    \"\"\"\n",
    "\n",
    "    persisted_descriptors = h5py.File(\"./persisted_data/\" + descriptorFileName + \".hdf5\", \"a\")\n",
    "\n",
    "    if descriptorsName in persisted_descriptors:\n",
    "\n",
    "        if verbose:\n",
    "            print(\"Loading descriptors from persisted file\")\n",
    "        descriptors = persisted_descriptors[descriptorsName][:]\n",
    "\n",
    "    else:\n",
    "\n",
    "        if verbose:\n",
    "            print(\"Creating descriptors matrix and persisting it to a file\")\n",
    "\n",
    "        descriptors = [0] * nbSounds\n",
    "        \n",
    "        for k, f in enumerate(os.listdir(root)):\n",
    "\n",
    "            if verbose:\n",
    "                progressbar(nbSounds, k)\n",
    "                \n",
    "            filename = os.path.join(root, f)\n",
    "            \n",
    "            sound, _ = getSound(filename, duration)\n",
    "            descriptors[k] = descriptor(sound)\n",
    "\n",
    "        if verbose:\n",
    "            print()\n",
    "\n",
    "        persisted_descriptors.create_dataset(descriptorsName, data = descriptors)\n",
    "    \n",
    "    persisted_descriptors.close()\n",
    "    \n",
    "    return np.array(descriptors)"
   ]
  },
  {
   "cell_type": "markdown",
   "metadata": {},
   "source": [
    "### Fonction pour afficher les valeurs propres cumulées pour un descripteur"
   ]
  },
  {
   "cell_type": "code",
   "execution_count": 4,
   "metadata": {},
   "outputs": [],
   "source": [
    "def displayDescriptorEigenvalues(descriptorMatrix, nbEigenvalues, threshold):\n",
    "    \"\"\"\n",
    "    Display the cumulative sum of the first nbEigenvalues eigenvalues for descriptorMatrix\n",
    "    Display the number of eigenvalues necessary to explain threshold * 100 % of the variance.\n",
    "    \"\"\"\n",
    "\n",
    "    # Get the eigenvalues\n",
    "    eigenvalues, _ = np.linalg.eig(descriptorMatrix.dot(descriptorMatrix.T))\n",
    "    eigenvalues = np.abs(eigenvalues)\n",
    "    eigenvalues[::-1].sort()\n",
    "\n",
    "    sum_eigenvalues = np.cumsum(eigenvalues) / np.sum(eigenvalues)\n",
    "\n",
    "    # Display the eigenvalues\n",
    "    plt.plot(sum_eigenvalues[0:nbEigenvalues])\n",
    "    plt.hlines(threshold, 0, nbEigenvalues - 1, linestyles = ':')\n",
    "\n",
    "    print(f\"Number of eigenvalues necessary to explain {round(threshold * 100)} % of the variance: {np.min(np.where(sum_eigenvalues > threshold))}\")\n"
   ]
  },
  {
   "cell_type": "markdown",
   "metadata": {},
   "source": [
    "## Scalogramme \"d'ordre 3\"\n",
    "\n",
    "### Fonction descripteur"
   ]
  },
  {
   "cell_type": "code",
   "execution_count": 5,
   "metadata": {},
   "outputs": [],
   "source": [
    "def descriptorScalogram3(sound, J = 12, Q = 1):\n",
    "    \"\"\"\n",
    "    Computes a sort of third order scalogram:\n",
    "    - uses a Hann windowing on a sound\n",
    "    - computes the second order scalogram of the resulting sound\n",
    "    - computes the Fourier transform of the scalogram, flattens it and returns it\n",
    "    \"\"\"\n",
    "\n",
    "    # Windowing\n",
    "    T = sound.shape[0]\n",
    "    windowed_sound = np.hanning(T) * sound\n",
    "\n",
    "    # Scalogram\n",
    "    scattering = Scattering1D(J, T, Q)\n",
    "    scalogram = scattering(windowed_sound / np.max(np.abs(windowed_sound)))\n",
    "    order2 = np.where(scattering.meta()['order'] == 2)\n",
    "    scalogram2 = scalogram[order2]\n",
    "    \n",
    "    # Fourier transform\n",
    "    fourierTransform = np.abs(np.fft.fft(scalogram2))\n",
    "    fourierTransform = fourierTransform[:, 0:fourierTransform.shape[1]//2]\n",
    "\n",
    "    # Flattening\n",
    "    descriptor = fourierTransform.flatten()\n",
    "\n",
    "    # Normalization\n",
    "    descriptor = descriptor / np.linalg.norm(descriptor)\n",
    "    \n",
    "    return descriptor"
   ]
  },
  {
   "cell_type": "markdown",
   "metadata": {},
   "source": [
    "### Calcul du descripteur pour un son"
   ]
  },
  {
   "cell_type": "code",
   "execution_count": 6,
   "metadata": {},
   "outputs": [
    {
     "name": "stdout",
     "output_type": "stream",
     "text": [
      "(975,)\n"
     ]
    },
    {
     "data": {
      "image/png": "[encoded data removed]",
      "text/plain": [
       "<Figure size 576x288 with 1 Axes>"
      ]
     },
     "metadata": {
      "needs_background": "light"
     },
     "output_type": "display_data"
    }
   ],
   "source": [
    "sound, fs = getSound(\"./SoundDatabase/BRA2S3786_20160215_152000.wav\", 5)\n",
    "\n",
    "descriptor = descriptorScalogram3(sound)\n",
    "print(descriptor.shape)\n",
    "\n",
    "plt.figure(figsize = (8, 4))\n",
    "plt.plot(descriptor)\n",
    "plt.show()"
   ]
  },
  {
   "cell_type": "markdown",
   "metadata": {},
   "source": [
    "### Calcul du secripteur pour tous les sons"
   ]
  },
  {
   "cell_type": "code",
   "execution_count": 7,
   "metadata": {},
   "outputs": [
    {
     "name": "stdout",
     "output_type": "stream",
     "text": [
      "Loading descriptors from persisted file\n"
     ]
    }
   ],
   "source": [
    "descriptorMatrix = computeAllDescriptors(descriptorScalogram3, \"scalogram3\", \"descriptors\")"
   ]
  },
  {
   "cell_type": "markdown",
   "metadata": {},
   "source": [
    "### Analyse des valeurs propres"
   ]
  },
  {
   "cell_type": "code",
   "execution_count": 8,
   "metadata": {},
   "outputs": [
    {
     "name": "stdout",
     "output_type": "stream",
     "text": [
      "Number of eigenvalues necessary to explain 99 % of the variance: 2\n"
     ]
    },
    {
     "data": {
      "image/png": "[encoded data removed]",
      "text/plain": [
       "<Figure size 432x288 with 1 Axes>"
      ]
     },
     "metadata": {
      "needs_background": "light"
     },
     "output_type": "display_data"
    }
   ],
   "source": [
    "displayDescriptorEigenvalues(descriptorMatrix, 20, 0.99)"
   ]
  },
  {
   "cell_type": "markdown",
   "metadata": {},
   "source": [
    "## Moyenne + ecart-type"
   ]
  },
  {
   "cell_type": "code",
   "execution_count": null,
   "metadata": {},
   "outputs": [],
   "source": []
  },
  {
   "cell_type": "markdown",
   "metadata": {},
   "source": [
    "## Descripteur usuel non normalisé"
   ]
  },
  {
   "cell_type": "code",
   "execution_count": 9,
   "metadata": {},
   "outputs": [],
   "source": [
    "def compute_usual_descriptor(sound, J = 12, Q = 3):\n",
    "    \n",
    "    T = sound.shape[-1]\n",
    "\n",
    "    scattering = Scattering1D(J, T, Q)\n",
    "\n",
    "    scalogram = scattering(sound / np.max(np.abs(sound)))\n",
    "\n",
    "\n",
    "    order2 = np.where(scattering.meta()['order'] == 2)\n",
    "\n",
    "    descriptor = scalogram[order2]\n",
    "    descriptor = np.mean(descriptor, axis = 1)\n",
    "    #descriptor = descriptor / np.linalg.norm(descriptor)\n",
    "\n",
    "    return descriptor\n",
    "\n"
   ]
  },
  {
   "cell_type": "code",
   "execution_count": 10,
   "metadata": {},
   "outputs": [
    {
     "name": "stdout",
     "output_type": "stream",
     "text": [
      "(175,)\n"
     ]
    },
    {
     "data": {
      "image/png": "[encoded data removed]",
      "text/plain": [
       "<Figure size 576x288 with 1 Axes>"
      ]
     },
     "metadata": {
      "needs_background": "light"
     },
     "output_type": "display_data"
    }
   ],
   "source": [
    "sound, fs = getSound(\"./SoundDatabase/BRA2S3786_20160215_152000.wav\", 5)\n",
    "\n",
    "descriptor = compute_usual_descriptor(sound)\n",
    "print(descriptor.shape)\n",
    "\n",
    "plt.figure(figsize = (8, 4))\n",
    "plt.plot(descriptor)\n",
    "plt.show()"
   ]
  },
  {
   "cell_type": "code",
   "execution_count": 11,
   "metadata": {},
   "outputs": [
    {
     "name": "stdout",
     "output_type": "stream",
     "text": [
      "Loading descriptors from persisted file\n",
      "(432, 175)\n",
      "Number of eigenvalues necessary to explain 99 % of the variance: 4\n"
     ]
    },
    {
     "data": {
      "image/png": "[encoded data removed]",
      "text/plain": [
       "<Figure size 432x288 with 1 Axes>"
      ]
     },
     "metadata": {
      "needs_background": "light"
     },
     "output_type": "display_data"
    }
   ],
   "source": [
    "usualDescriptorMatrix = computeAllDescriptors(compute_usual_descriptor, \"scalogram3\", \"descriptors_non_normalized\")\n",
    "print(usualDescriptorMatrix.shape)\n",
    "displayDescriptorEigenvalues(usualDescriptorMatrix, 20, 0.99)\n"
   ]
  }
 ],
 "metadata": {
  "interpreter": {
   "hash": "3f754e0f2c035ece9b0a4f998d8077dc946278dc35515802da1198acd4f82ede"
  },
  "kernelspec": {
   "display_name": "Python 3.8.8 ('base')",
   "language": "python",
   "name": "python3"
  },
  "language_info": {
   "codemirror_mode": {
    "name": "ipython",
    "version": 3
   },
   "file_extension": ".py",
   "mimetype": "text/x-python",
   "name": "python",
   "nbconvert_exporter": "python",
   "pygments_lexer": "ipython3",
   "version": "3.8.8"
  },
  "orig_nbformat": 4
 },
 "nbformat": 4,
 "nbformat_minor": 2
}
