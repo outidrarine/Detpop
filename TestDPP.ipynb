{
 "cells": [
  {
   "cell_type": "code",
   "execution_count": 2,
   "metadata": {},
   "outputs": [],
   "source": [
    "from dppy.finite_dpps import FiniteDPP\n",
    "from dppy.utils import example_eval_L_linear\n",
    "from constructionPsi import getpsi\n"
   ]
  },
  {
   "cell_type": "code",
   "execution_count": 9,
   "metadata": {},
   "outputs": [
    {
     "name": "stdout",
     "output_type": "stream",
     "text": [
      "loading psi from persisted file\n",
      "L (likelihood) kernel computed via:\n",
      "- L = eval_L(X_data, X_data)\n",
      "[322, 110, 181, 268, 259, 86, 142, 171, 146, 61, 178, 139, 316, 414, 271, 30, 161, 174, 332, 131]\n"
     ]
    },
    {
     "name": "stderr",
     "output_type": "stream",
     "text": [
      "C:\\ProgramData\\Anaconda3\\lib\\site-packages\\dppy\\finite_dpps.py:909: UserWarning: Weird setting:\n",
      "FiniteDPP(.., **{\"L_eval_X_data\": (eval_L, X_data)})\n",
      "When using \"L_eval_X_data\", you are a priori working with a big `X_data` and not willing to compute the full likelihood kernel L\n",
      "Right now, the computation of L=eval_L(X_data) is performed but might be very expensive, this is at your own risk!\n",
      "You might also use FiniteDPP(.., **{\"L\": eval_L(X_data)})\n",
      "  warn('\\n'.join(warn_print))\n"
     ]
    }
   ],
   "source": [
    "PSI = getpsi()\n",
    "\n",
    "#DPP = FiniteDPP('likelihood', **{'L': L})\n",
    "DPP = FiniteDPP('likelihood', **{'L_eval_X_data': (example_eval_L_linear , PSI)})\n",
    "\n",
    "# Sample\n",
    "K = 20\n",
    "samples = []\n",
    "\n",
    "samples = DPP.sample_exact_k_dpp(size=K)\n",
    "\n",
    "print(samples)\n"
   ]
  }
 ],
 "metadata": {
  "interpreter": {
   "hash": "b3ba2566441a7c06988d0923437866b63cedc61552a5af99d1f4fb67d367b25f"
  },
  "kernelspec": {
   "display_name": "Python 3.8.8 64-bit ('base': conda)",
   "language": "python",
   "name": "python3"
  },
  "language_info": {
   "codemirror_mode": {
    "name": "ipython",
    "version": 3
   },
   "file_extension": ".py",
   "mimetype": "text/x-python",
   "name": "python",
   "nbconvert_exporter": "python",
   "pygments_lexer": "ipython3",
   "version": "3.8.8"
  },
  "orig_nbformat": 4
 },
 "nbformat": 4,
 "nbformat_minor": 2
}
