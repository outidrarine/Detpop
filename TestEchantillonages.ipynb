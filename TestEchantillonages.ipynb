{
 "cells": [
  {
   "cell_type": "markdown",
   "metadata": {},
   "source": [
    "# Echantillonages\n",
    "\n",
    "L'idée est de proposer plusieurs fonctions d'échantillonages afin d'obtenir des jeux d'échantillons par plusieurs méthodes et de pouvoir les comparer entres elles\n",
    "\n",
    "## Imports\n",
    "### Librairies"
   ]
  },
  {
   "cell_type": "code",
   "execution_count": null,
   "metadata": {},
   "outputs": [],
   "source": []
  },
  {
   "cell_type": "markdown",
   "metadata": {},
   "source": [
    "### Autres fichiers"
   ]
  },
  {
   "cell_type": "code",
   "execution_count": null,
   "metadata": {},
   "outputs": [],
   "source": []
  },
  {
   "cell_type": "markdown",
   "metadata": {},
   "source": [
    "## Echantillonage par pertinence"
   ]
  },
  {
   "cell_type": "code",
   "execution_count": 1,
   "metadata": {},
   "outputs": [
    {
     "name": "stdout",
     "output_type": "stream",
     "text": [
      "['BRA2S3786_20160216_004000.wav', 'BRA2S3786_20160215_144000.wav', 'BRA2S3786_20160215_033000.wav', 'BRA2S3786_20160216_011000.wav', 'BRA2S3786_20160216_021000.wav', 'BRA2S3786_20160215_041000.wav', 'BRA2S3786_20160216_013000.wav', 'BRA2S3786_20160216_012000.wav', 'BRA2S3786_20160215_031000.wav', 'BRA2S3786_20160215_035000.wav']\n"
     ]
    }
   ],
   "source": [
    "from echantillonages import sampling_pertinence\n",
    "\n",
    "print(sampling_pertinence(10))"
   ]
  },
  {
   "cell_type": "code",
   "execution_count": null,
   "metadata": {},
   "outputs": [],
   "source": []
  }
 ],
 "metadata": {
  "interpreter": {
   "hash": "3f754e0f2c035ece9b0a4f998d8077dc946278dc35515802da1198acd4f82ede"
  },
  "kernelspec": {
   "display_name": "Python 3.8.8 64-bit ('base': conda)",
   "language": "python",
   "name": "python3"
  },
  "language_info": {
   "codemirror_mode": {
    "name": "ipython",
    "version": 3
   },
   "file_extension": ".py",
   "mimetype": "text/x-python",
   "name": "python",
   "nbconvert_exporter": "python",
   "pygments_lexer": "ipython3",
   "version": "3.8.8"
  },
  "orig_nbformat": 4
 },
 "nbformat": 4,
 "nbformat_minor": 2
}
