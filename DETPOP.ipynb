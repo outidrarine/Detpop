{
 "cells": [
  {
   "cell_type": "code",
   "execution_count": 1,
   "id": "63d847df",
   "metadata": {},
   "outputs": [],
   "source": [
    "from maad.features import tfsd"
   ]
  },
  {
   "cell_type": "code",
   "execution_count": 2,
   "id": "e99d073e",
   "metadata": {},
   "outputs": [],
   "source": [
    "import numpy as np\n",
    "import matplotlib.pyplot as plt"
   ]
  },
  {
   "cell_type": "code",
   "execution_count": 3,
   "id": "597af5a1",
   "metadata": {
    "scrolled": false
   },
   "outputs": [
    {
     "data": {
      "text/plain": [
       "(-1.0994713695023444, 1.0999748271191592, -8.7988923235301, 8.7988923235301)"
      ]
     },
     "execution_count": 3,
     "metadata": {},
     "output_type": "execute_result"
    },
    {
     "data": {
      "image/png": "[encoded data removed]",
      "text/plain": [
       "<Figure size 432x288 with 1 Axes>"
      ]
     },
     "metadata": {
      "needs_background": "light"
     },
     "output_type": "display_data"
    }
   ],
   "source": [
    "def ellipsePoints(a, b, nbPoints):\n",
    "    \n",
    "    t_list = np.linspace(0, 2*np.pi, nbPoints)\n",
    "    x = [a*np.cos(t) for t in t_list]\n",
    "    y = [b*np.sin(t) for t in t_list]\n",
    "    \n",
    "    return x, y\n",
    "\n",
    "\n",
    "x, y = ellipsePoints(1, 8, 100)\n",
    "\n",
    "plt.scatter(x, y)\n",
    "plt.axis('equal')"
   ]
  },
  {
   "cell_type": "code",
   "execution_count": 4,
   "id": "6d871109",
   "metadata": {},
   "outputs": [],
   "source": [
    "def maxPertinence(x, y):\n",
    "    N = len(x)\n",
    "    max_ij = (0, 0)\n",
    "    max_p = 0\n",
    "    \n",
    "    for i in range(N):\n",
    "        for j in range(i):\n",
    "            p = (x[i]**2 + y[i]**2)*(x[j]**2 + y[j]**2)\n",
    "            if p > max_p:\n",
    "                max_p = p\n",
    "                max_ij = (i, j)\n",
    "    \n",
    "    return max_ij\n",
    "\n",
    "\n",
    "def maxDiversite(x, y):\n",
    "    N = len(x)\n",
    "    min_ij = (0, 0)\n",
    "    min_d = 2\n",
    "    \n",
    "    for i in range(N):\n",
    "        for j in range(i):\n",
    "            d = abs((x[i]*x[j] + y[i]*y[j])/((x[i]**2 + y[i]**2)*(x[j]**2 + y[j]**2)))\n",
    "            if d < min_d:\n",
    "                min_d = d\n",
    "                min_ij = (i, j)\n",
    "    \n",
    "    return min_ij\n",
    "\n",
    "\n",
    "def dpp(x, y):\n",
    "    N = len(x)\n",
    "    p = np.zeros([N, N]);\n",
    "    \n",
    "    for i in range(N):\n",
    "        for j in range(N):\n",
    "            p[i, j] = np.linalg.det(np.array([[x[i], y[i]], [x[j], y[j]]]))\n",
    "            \n",
    "    i, j = np.where(p == np.max(p))\n",
    "    i, j = i[0], j[0]\n",
    "    \n",
    "    return i, j"
   ]
  },
  {
   "cell_type": "code",
   "execution_count": 127,
   "id": "e703b1ca",
   "metadata": {},
   "outputs": [
    {
     "name": "stdout",
     "output_type": "stream",
     "text": [
      "(array([ 1,  9, 10, 13, 14, 15, 19, 21, 28, 31, 32, 38, 40, 46, 53, 57, 63,\n",
      "       77, 79, 82, 86, 88, 94], dtype=int64), array([26, 34, 35, 38, 39, 40, 44, 46, 53, 56, 57, 63, 65, 71, 78, 82, 88,\n",
      "        3,  5,  8, 12, 14, 20], dtype=int64))\n"
     ]
    },
    {
     "data": {
      "image/png": "[encoded data removed]",
      "text/plain": [
       "<Figure size 432x288 with 1 Axes>"
      ]
     },
     "metadata": {
      "needs_background": "light"
     },
     "output_type": "display_data"
    },
    {
     "data": {
      "image/png": "[encoded data removed]",
      "text/plain": [
       "<Figure size 432x288 with 1 Axes>"
      ]
     },
     "metadata": {
      "needs_background": "light"
     },
     "output_type": "display_data"
    },
    {
     "data": {
      "image/png": "[encoded data removed]",
      "text/plain": [
       "<Figure size 432x288 with 1 Axes>"
      ]
     },
     "metadata": {
      "needs_background": "light"
     },
     "output_type": "display_data"
    }
   ],
   "source": [
    "x, y = ellipsePoints(1, 5, 100)\n",
    "\n",
    "# Perimetre max\n",
    "i1, j1 = maxPertinence(x, y)\n",
    "# Angle min\n",
    "i2, j2 = maxDiversite(x, y)\n",
    "# Aire max\n",
    "i3, j3 = dpp(x, y)\n",
    "\n",
    "np.linalg.det(np.array([[x[test1], y[test1]], [x[test2], y[test2]]]))\n",
    "\n",
    "\n",
    "plt.scatter(x, y)\n",
    "plt.arrow(0, 0, x[i1], y[i1], color = 'r')\n",
    "plt.arrow(0, 0, x[j1], y[j1], color = 'r')\n",
    "plt.axis('equal')\n",
    "plt.show()\n",
    "\n",
    "plt.scatter(x, y)\n",
    "plt.arrow(0, 0, x[i2], y[i2], color = 'r')\n",
    "plt.arrow(0, 0, x[j2], y[j2], color = 'r')\n",
    "plt.axis('equal')\n",
    "plt.show()\n",
    "\n",
    "plt.scatter(x, y)\n",
    "plt.arrow(0, 0, x[i3], y[i3], color = 'r')\n",
    "plt.arrow(0, 0, x[j3], y[j3], color = 'r')\n",
    "plt.axis('equal')\n",
    "plt.show()"
   ]
  },
  {
   "cell_type": "code",
   "execution_count": null,
   "id": "ffbdf32c",
   "metadata": {},
   "outputs": [],
   "source": []
  }
 ],
 "metadata": {
  "kernelspec": {
   "display_name": "Python 3 (ipykernel)",
   "language": "python",
   "name": "python3"
  },
  "language_info": {
   "codemirror_mode": {
    "name": "ipython",
    "version": 3
   },
   "file_extension": ".py",
   "mimetype": "text/x-python",
   "name": "python",
   "nbconvert_exporter": "python",
   "pygments_lexer": "ipython3",
   "version": "3.8.8"
  }
 },
 "nbformat": 4,
 "nbformat_minor": 5
}
