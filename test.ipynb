{
 "cells": [
  {
   "cell_type": "code",
   "execution_count": 4,
   "metadata": {},
   "outputs": [
    {
     "name": "stdout",
     "output_type": "stream",
     "text": [
      "Creating descriptors matrix and persisting it to a file\n",
      "[====================================================================================================] 99%\n"
     ]
    },
    {
     "data": {
      "text/plain": [
       "array([[ 1.36636037e-01,  5.20226147e-02,  2.05754268e-02, ...,\n",
       "         3.91790516e-02,  5.99071689e-02,  9.61752171e-03],\n",
       "       [ 1.25452716e-01,  5.18550520e-02,  2.08753129e-02, ...,\n",
       "         2.27458747e-02, -1.47135281e-02, -2.28640753e-02],\n",
       "       [ 1.50727425e-01,  5.32421414e-02,  2.11279730e-02, ...,\n",
       "        -9.33911873e-02,  1.69933693e-04,  9.90435693e-02],\n",
       "       ...,\n",
       "       [ 1.63619257e-01,  7.28349204e-02,  4.21341317e-02, ...,\n",
       "         2.55131815e-02, -2.04634128e-02,  3.08693553e-02],\n",
       "       [ 2.10339453e-01,  8.50168230e-02,  3.38835029e-02, ...,\n",
       "         1.67702767e-02,  2.34828415e-03,  1.70112047e-02],\n",
       "       [ 1.88255058e-01,  6.78669563e-02,  3.60166444e-02, ...,\n",
       "        -2.17578734e-02,  7.72262792e-03, -3.20034374e-02]])"
      ]
     },
     "execution_count": 4,
     "metadata": {},
     "output_type": "execute_result"
    }
   ],
   "source": [
    "from constructionPsi import getDescriptors\n",
    "\n",
    "descriptorName = 'scalogramStat3'\n",
    "J = 12\n",
    "Q = 3\n",
    "\n",
    "getDescriptors(descriptorName = descriptorName, J = J, Q = Q)"
   ]
  }
 ],
 "metadata": {
  "interpreter": {
   "hash": "3f754e0f2c035ece9b0a4f998d8077dc946278dc35515802da1198acd4f82ede"
  },
  "kernelspec": {
   "display_name": "Python 3.8.8 ('base')",
   "language": "python",
   "name": "python3"
  },
  "language_info": {
   "codemirror_mode": {
    "name": "ipython",
    "version": 3
   },
   "file_extension": ".py",
   "mimetype": "text/x-python",
   "name": "python",
   "nbconvert_exporter": "python",
   "pygments_lexer": "ipython3",
   "version": "3.8.8"
  },
  "orig_nbformat": 4
 },
 "nbformat": 4,
 "nbformat_minor": 2
}
