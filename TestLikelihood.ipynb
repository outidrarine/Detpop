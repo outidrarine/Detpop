{
 "cells": [
  {
   "cell_type": "markdown",
   "metadata": {},
   "source": [
    "# Test des fonctions de vraissemblance\n",
    "\n",
    "## Vraisemblance pour l'echantillonnage aléatoire"
   ]
  },
  {
   "cell_type": "code",
   "execution_count": 3,
   "metadata": {},
   "outputs": [
    {
     "name": "stdout",
     "output_type": "stream",
     "text": [
      "1.7803273799459684e-20\n"
     ]
    }
   ],
   "source": [
    "from likelihood import randomLikelihood\n",
    "from echantillonnages import sampling_dpp\n",
    "\n",
    "nbSamples = 10\n",
    "samples, _ = sampling_dpp(nbSamples)\n",
    "\n",
    "print(randomLikelihood(samples))"
   ]
  },
  {
   "cell_type": "markdown",
   "metadata": {},
   "source": [
    "## Vraisemblance pour l'echantillonnage par pertinence"
   ]
  },
  {
   "cell_type": "code",
   "execution_count": 5,
   "metadata": {},
   "outputs": [
    {
     "name": "stdout",
     "output_type": "stream",
     "text": [
      "4.7053951125056665e-30\n",
      "1.1687073319903176e-25\n"
     ]
    }
   ],
   "source": [
    "from likelihood import pertinenceLikelihood\n",
    "from echantillonnages import sampling_random, sampling_pertinence\n",
    "\n",
    "nbSamples = 10\n",
    "randomSamples, _ = sampling_random(nbSamples)\n",
    "pertinenceSamples, _ = sampling_pertinence(nbSamples)\n",
    "\n",
    "print(pertinenceLikelihood(randomSamples))\n",
    "print(pertinenceLikelihood(pertinenceSamples))"
   ]
  },
  {
   "cell_type": "code",
   "execution_count": null,
   "metadata": {},
   "outputs": [],
   "source": []
  }
 ],
 "metadata": {
  "interpreter": {
   "hash": "3f754e0f2c035ece9b0a4f998d8077dc946278dc35515802da1198acd4f82ede"
  },
  "kernelspec": {
   "display_name": "Python 3.8.8 ('base')",
   "language": "python",
   "name": "python3"
  },
  "language_info": {
   "codemirror_mode": {
    "name": "ipython",
    "version": 3
   },
   "file_extension": ".py",
   "mimetype": "text/x-python",
   "name": "python",
   "nbconvert_exporter": "python",
   "pygments_lexer": "ipython3",
   "version": "3.8.8"
  },
  "orig_nbformat": 4
 },
 "nbformat": 4,
 "nbformat_minor": 2
}
